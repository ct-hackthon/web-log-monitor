{
 "cells": [
  {
   "cell_type": "markdown",
   "metadata": {},
   "source": [
    "# 1. 研究课题介绍 #\n",
    "\n",
    "智能客户端网络监控和报警\n",
    "\n",
    "## 1.1 业务背景 ##\n",
    "```\n",
    "    监控和报警 目前的痛点是需要根据不同接口的情况设置阈值。这样的做法简单直接，但是有很多弊端。  \n",
    "    \n",
    "    一，维护大量接口的设置报警阈值\n",
    "    二，容易漏报，错报  \n",
    "```\n",
    "\n",
    "## 1.2 期待结果 ##\n",
    "```\n",
    "    每一个网络请求就是这个模型的一个输入项，请求的各种参数（接口名称 IP 响应时间 http code 坐标等等）都是模型的影响因子，而这个模型的输出就是这个请求是不是一个故障。\n",
    "    某个失败的请求可能只是偶发，多个有某些共同特征的失败请求可能就是个故障。比如在一段时间内某个坐标区域内发生了多次请求失败，那它们就会被聚类在一起，触发一次报警。不用人工去分析哪个接口阈值多少啊，哪个地区怎么设报警等等（也无法设置）。\n",
    "```\n",
    "\n",
    "## 1.3 数据源 ##\n",
    "```\n",
    "客户端请求原始日志\n",
    "\n",
    "\n",
    "```\n"
   ]
  },
  {
   "cell_type": "markdown",
   "metadata": {},
   "source": [
    "# 2. 数据特性分析 #\n",
    "\n",
    "## 2.1 数据原始 格式 ##\n",
    "```\n",
    "[Timestampe]>> {JSON数据格式}####客户端基本信息\n",
    "\n",
    "```\n",
    "\n"
   ]
  },
  {
   "cell_type": "code",
   "execution_count": null,
   "metadata": {
    "collapsed": true
   },
   "outputs": [],
   "source": []
  },
  {
   "cell_type": "markdown",
   "metadata": {},
   "source": [
    "## 2.2  特征值分析 ##\n",
    "\n",
    "JSON数据格式：\n",
    "\"network\":[]  Native网络性能数据\n",
    "\"webnet\":[] //web网络性能数据\n",
    "\"IOSUI\":[] //性能数据\n",
    "\n",
    "\n",
    "\"webview\" :[] web性能数据\n",
    " \n",
    "----------------\n",
    " \n",
    "### 2.2.1 network 包含的字段  ###\n",
    "\n",
    " \n",
    " | 字段名| 说明 |\n",
    " |------:|:-----|\n",
    " | reqSize | 网络请求大小 |\n",
    " | netType | 网络类型 2G 3G 4G wifi cellular unknown |\n",
    " | httpCode | HTTP请求状态码 |\n",
    " | mno |  运营商 移动，联通  |\n",
    " | reqUrl | 请求的URL |\n",
    " | vid | |\n",
    " | reqTime | 收到网络响应的时间   responseTime-startTime |\n",
    " | hf | 异常原因 |\n",
    " | endTime | 结束时间 |\n",
    " | startTime | 开始时间 |\n",
    " | connTime |  建立网络连接的时间 |\n",
    " | resSize | 收到响应数据大小 |\n",
    " | loc | |\n",
    " \n",
    "  \n",
    " ### 2.2.2 webnet 包含的字段 ###\n",
    "\n",
    " | 字段名| 说明 |\n",
    " |------:|:-----|\n",
    " | netType | 网络类型 2G 3G 4G wifi cellular unknown |\n",
    " | httpCode | HTTP请求状态码 |\n",
    " | mno |  运营商 移动，联通  |\n",
    " | reqUrl | 请求的URL |\n",
    " | endTime | 结束时间 |\n",
    " | startTime | 开始时间 |\n",
    " | resSize | 收到响应数据大小 |\n",
    " \n",
    " ### 2.2.3 IOS UI 包含的字段 ###\n",
    " \n",
    " | 字段名| 说明 |\n",
    " |------:|:-----|\n",
    " | disappearTime |  |\n",
    " | visibleTime |  |\n",
    " | vid |    |\n",
    " | fps | |\n",
    " | memoryUsage | viewWillDisappear,viewDidAppear,viewDidLoad,viewWillAppear,viewDidDisappear |\n",
    " | keyMethods |  |\n",
    " | startTime |  |\n",
    " | name |  |\n",
    " | appearTime |  |\n",
    " \n",
    " \n",
    " ### 2.2.4 客户端基本信息 ###\n",
    "| 参数名 | 类型 | 说明 | \n",
    "|:-------|:-----|:-----|\n",
    "| cid |\tString | 渠道号 |\n",
    "| uid |\tString | 设备唯一号，如android为手机串号，iphone为mac地址 ，ios7以后为iid |\n",
    "| vid |\tString | app版本号，如80011001  80开头是iphone，60开头是安卓 |\n",
    "| gid |\tString | 服务器为每个设备下发的唯一编号 |\n",
    "| sid |\tString | 服务器下发的标示，不保证唯 |\n",
    "| pid |\tString | 产品号 10010-去哪儿旅行客户端，10020-去哪儿酒店客户端，11010-去哪儿旅行iphone pro版客户端，12010-去哪儿生活，12010-ipad演示版（vid=81011021），19010 -ipad演示版（pid和生活版重后变更） ，18010 -iphone pro演示版，10030-英文版客户端 ,   10040-国际车OP iOS客户端，10050-国际车司机 iOS客户端 |\n",
    "| aid |\tString | apple id。ios客户端特有 |\n",
    "| iid |\tString | apple广告id | \n",
    "| mac |\tString | mac地址 |\n",
    "| model | String | 手机的型号 |\n",
    "| osVersion\t| String | 手机操作系统的版本号 |\n",
    "| ke | String | 加密key |\n",
    "| t | String | 接口标示，比如t=hlist代表请求酒店列表接口 t=hdetail代表请求酒店详情接口 |\n",
    "| msg | String | 前端的一些操作日志（如拨打电话等动作）|\n",
    "| cp | int  | 是否压缩（目前后端已经不处理了，所有的返回都压缩） |\n",
    "| re | int  | 是否带resouce资源文件（目前后端已经不处理了，有resource的接口都会将resource加到返回值里） |\n",
    "| un | String | 登录用户的用户名，打印日志的时候将参数打印为 username |\n",
    "| mno | String | 运营商标志   46000,46002移动，46001联通，46003电信 |\n",
    "| nt | String | \"wifi\", \"2G/3G\" |\n",
    "| adid | String | ANDROID_ID是系统提供的一个唯一号\n",
    "| ref | String | 记录页面跳转的上一个页面<BR>  A-》B-》C 从B先进后请求到C了上一个页面就是B，请求是从C发的，C的上一个页面是B; <BR>A-》B-》C 从B先请求后进到C了上一个页面就是A，请求是从B发的，B的上一个页面是A\n",
    "| brush\t| String | 客户端设备信息 eg：线性加 速度 lac=x,y,z 单位 m/s^2 保 留两位小数 lac=0.00,0.00,1.12 |\n",
    "| gac | int | 陀螺仪 gac=x,y,z 单位m/s^2 保留两位小数 gac=-1.10,0.40,9.45 |\n",
    "| lux | int | 光感 lux=24.0 单位lux 保留一位小数 |\n",
    "| ori | int | 罗盘 ori=Azimuth,Pitch,Roll 保留两位小数 ori=141.20,- 0.51,-0.60 |\n",
    "| is | int | 是否root/越狱 isr=0 表示未root/越狱 isr=1 表示root/越狱 |\n",
    "| imsi=460001234567890\n",
    "| bs | int | 电池状态: bs=0 表示未在充电, bs=1表示在充电 |\n",
    "| btm | long | 开机时间: btm=1418721900000 JAVA毫秒时间戳 |\n",
    "| lt | int | 经纬度模拟标识 lt：是否模拟经纬度0是正常，1是模拟的 |\n",
    "| lat | String | 纬度 |\n",
    "| lgt | String | 经度 |\n",
    "| catom | String | 安卓新架构， 模块,模块版本信息 eg：  com.mqunar.atom.alexhome_1 |\n",
    "| tsv |String | targetSDKVersion |\n",
    "| usid |String | userId | \n",
    "| pitcherTid |String | 通过picher服务，pitcher服务给予每个请求的唯一标识符 |\n",
    "\n",
    " "
   ]
  },
  {
   "cell_type": "markdown",
   "metadata": {},
   "source": [
    "### 2.2.5 特征删选 ###\n",
    "reqSize   网络请求大小  \n",
    "netType\t  网络类型 2G 3G 4G wifi cellular unknown  \n",
    "httpCode  HTTP请求状态码  \n",
    "mno\t    运营商 移动，联通  \n",
    "reqUrl \t 请求的URL    \n",
    "reqTime\t 收到网络响应的时间 responseTime-startTime  \n",
    "hf\t    异常原因  \n",
    "endTime  结束时间  \n",
    "startTime\t开始时间  \n",
    "connTime\t建立网络连接的时间  \n",
    "resSize\t   收到响应数据大小  \n",
    "lt\t\t经纬度模拟标识 lt：是否模拟经纬度0是正常，1是模拟的  \n",
    "lat\t\t纬度  \n",
    "lgt\t\t经度  \n",
    "pid\t\t产品号   \n",
    "usid\tuserId  "
   ]
  },
  {
   "cell_type": "markdown",
   "metadata": {},
   "source": [
    "# 3. 建模 #"
   ]
  },
  {
   "cell_type": "markdown",
   "metadata": {},
   "source": [
    "## 3.1 流式计算 ##\n",
    "Storm"
   ]
  },
  {
   "cell_type": "markdown",
   "metadata": {},
   "source": [
    "## 3.2 节点1 线性回归 ##"
   ]
  },
  {
   "cell_type": "code",
   "execution_count": 7,
   "metadata": {},
   "outputs": [
    {
     "data": {
      "image/png": "[encoded data removed]",
      "text/plain": [
       "<matplotlib.figure.Figure at 0x9705e10>"
      ]
     },
     "metadata": {},
     "output_type": "display_data"
    },
    {
     "name": "stdout",
     "output_type": "stream",
     "text": [
      "方差: 1.0\n",
      "阀值 3.0\n",
      "预测值 [[ 2.6]]\n",
      "实际值 6\n",
      "是否大于阀值 True\n"
     ]
    }
   ],
   "source": [
    "import matplotlib.pyplot as plt\n",
    "import numpy as np\n",
    "from sklearn.linear_model import LinearRegression\n",
    "\n",
    "# 训练集合 \n",
    "X_trains = [[100],[105],[110],[115],[120],[125]]\n",
    "Y_trains = [[1],[3],[1],[3],[1],[3]]\n",
    "\n",
    "# 新簇 \n",
    "x = 130\n",
    "y = 6\n",
    "\n",
    "#basic  \n",
    "f1 = plt.figure(1)  \n",
    "plt.title('Node 1')\n",
    "plt.xlabel('Time Line')\n",
    "plt.ylabel('Non-200 Error Occur')\n",
    "plt.grid(True)\n",
    "plt.scatter(X_trains,Y_trains) \n",
    "\n",
    "\n",
    "linreg = LinearRegression()\n",
    "linreg.fit(X_trains, Y_trains)\n",
    "\n",
    "# 做预测预测\n",
    "new_line = linreg.predict(X_trains)\n",
    "pre_y = linreg.predict(x)\n",
    "\n",
    "# 计算统计属性\n",
    "sd = np.var(Y_trains)\n",
    "n = 3*sd\n",
    "\n",
    "# 是否大于阀值 \n",
    "flag = y>n\n",
    "\n",
    "plt.plot(X_trains,Y_trains)\n",
    "plt.show()\n",
    "\n",
    "print(\"方差:\",sd)\n",
    "print(\"阀值\",n)\n",
    "print(\"预测值\",pre_y)\n",
    "print(\"实际值\",y)\n",
    "print(\"是否大于阀值\",flag)\n",
    "\n"
   ]
  }
 ],
 "metadata": {
  "kernelspec": {
   "display_name": "Python 3",
   "language": "python",
   "name": "python3"
  },
  "language_info": {
   "codemirror_mode": {
    "name": "ipython",
    "version": 3
   },
   "file_extension": ".py",
   "mimetype": "text/x-python",
   "name": "python",
   "nbconvert_exporter": "python",
   "pygments_lexer": "ipython3",
   "version": "3.6.1"
  },
  "toc": {
   "colors": {
    "hover_highlight": "#DAA520",
    "navigate_num": "#000000",
    "navigate_text": "#333333",
    "running_highlight": "#FF0000",
    "selected_highlight": "#FFD700",
    "sidebar_border": "#EEEEEE",
    "wrapper_background": "#FFFFFF"
   },
   "moveMenuLeft": true,
   "nav_menu": {
    "height": "85px",
    "width": "252px"
   },
   "navigate_menu": true,
   "number_sections": true,
   "sideBar": true,
   "threshold": 4,
   "toc_cell": false,
   "toc_position": {
    "height": "796px",
    "left": "0px",
    "right": "auto",
    "top": "105px",
    "width": "253px"
   },
   "toc_section_display": "block",
   "toc_window_display": true,
   "widenNotebook": false
  }
 },
 "nbformat": 4,
 "nbformat_minor": 2
}
